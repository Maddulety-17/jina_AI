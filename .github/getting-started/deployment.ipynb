{
 "cells": [
  {
   "cell_type": "markdown",
   "id": "1210a550-ceb4-419c-858a-33481b564bba",
   "metadata": {},
   "source": [
    "# Welcome to Jina - Let's Deploy an AI service!"
   ]
  },
  {
   "cell_type": "markdown",
   "id": "eaa08714-abc5-4e7e-9a46-08d93718003d",
   "metadata": {},
   "source": [
    "## Install requirements\n",
    "\n",
    "We'll use `%%capture` to capture the output (so we don't fill up the whole notebook with `pip`'s log messages)."
   ]
  },
  {
   "cell_type": "code",
   "execution_count": 1,
   "id": "897a0844-8277-4248-bac4-a6cbbe0a6855",
   "metadata": {},
   "outputs": [],
   "source": [
    "%%capture\n",
    "!pip install jina transformers\n",
    "# !pip install -U docarray  # Use latest version of DocArray v2"
   ]
  },
  {
   "cell_type": "markdown",
   "id": "ceddf4e7-8aba-49a6-9d92-3cd28ce9fdcd",
   "metadata": {},
   "source": [
    "## Write Executor\n",
    "\n",
    "We'll use Transformer's pipeline to work with StableLM"
   ]
  },
  {
   "cell_type": "code",
   "execution_count": 3,
   "id": "3ff855f0-bd1f-4026-92e7-6fb359a8a7a4",
   "metadata": {},
   "outputs": [],
   "source": [
    "from jina import Executor, requests\n",
    "from docarray import DocumentArray\n",
    "\n",
    "from transformers import pipeline\n",
    "\n",
    "\n",
    "class StableLM(Executor):\n",
    "\n",
    "    def __init__(self, **kwargs):\n",
    "        super().__init__(**kwargs)\n",
    "        self.generator = pipeline('text-generation', model='stablelm-3b')\n",
    "\n",
    "    @requests\n",
    "    def generate(self, docs: DocumentArray, **kwargs):\n",
    "        generated_text = self.generator(docs.texts)\n",
    "        docs.texts = [gen[0]['generated_text'] for gen in generated_text]"
   ]
  },
  {
   "cell_type": "markdown",
   "id": "1f23c239-26a7-421b-b1dd-e17470cf1b86",
   "metadata": {},
   "source": [
    "## Create input Document\n",
    "\n",
    "Everything that goes in and out of Jina is a [Document](), provided by the [DocArray package](). In our Document we'll add a prompt that will be sent to the LLM as input."
   ]
  },
  {
   "cell_type": "code",
   "execution_count": 9,
   "id": "a82940b4-db90-4313-98c9-bd3af5965c86",
   "metadata": {},
   "outputs": [],
   "source": [
    "input_doc = Document(tags={'prompt':'suggest an interesting image generation prompt for a mona lisa variant'})"
   ]
  },
  {
   "cell_type": "markdown",
   "id": "7878d053-9987-4109-99cf-1c37e29fee3b",
   "metadata": {},
   "source": [
    "## Deploy the AI service to create an image generation prompt\n",
    "\n",
    "We'll deploy our service and send a prompt. The Deployed Executor will process this in the LLM and return a prompt for image generation."
   ]
  },
  {
   "cell_type": "code",
   "execution_count": null,
   "id": "7ac44650-c15c-4d54-9f8b-d9235d78bae0",
   "metadata": {},
   "outputs": [],
   "source": [
    "from jina import Deployment\n",
    "from docarray import Document\n",
    "\n",
    "dep = Deployment(uses=StableLM, timeout_ready=-1, port=12345)\n",
    "\n",
    "with dep:\n",
    "    docs = dep.post(on='/', inputs=[input_doc])"
   ]
  },
  {
   "cell_type": "markdown",
   "id": "31207820-13bc-4105-b115-e6c2f51dfdb7",
   "metadata": {},
   "source": [
    "Note: Typically you would use something like:\n",
    "\n",
    "```python\n",
    "with dep:\n",
    "    dep.block()\n",
    "```\n",
    "\n",
    "To block the process and keep a gateway open. However, since this is a Jupyter notebook we could not then send an input Document. For this reason we use `dep.post()` in this notebook instead."
   ]
  },
  {
   "cell_type": "code",
   "execution_count": null,
   "id": "4301f88c-ad28-428a-9b2f-f3e7ce4efdca",
   "metadata": {},
   "outputs": [],
   "source": []
  }
 ],
 "metadata": {
  "kernelspec": {
   "display_name": "Python 3 (ipykernel)",
   "language": "python",
   "name": "python3"
  },
  "language_info": {
   "codemirror_mode": {
    "name": "ipython",
    "version": 3
   },
   "file_extension": ".py",
   "mimetype": "text/x-python",
   "name": "python",
   "nbconvert_exporter": "python",
   "pygments_lexer": "ipython3",
   "version": "3.11.3"
  }
 },
 "nbformat": 4,
 "nbformat_minor": 5
}
